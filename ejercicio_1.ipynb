{
 "cells": [
  {
   "cell_type": "markdown",
   "metadata": {},
   "source": [
    "Tengo que encontrar la suma de los múltiplos de 3 y de 5 menores a 1000"
   ]
  },
  {
   "cell_type": "code",
   "execution_count": 1,
   "metadata": {
    "collapsed": false
   },
   "outputs": [],
   "source": [
    "numbers=list(range(1,1001))"
   ]
  },
  {
   "cell_type": "code",
   "execution_count": 2,
   "metadata": {
    "collapsed": true
   },
   "outputs": [],
   "source": [
    "def mult_3y5(lista):     #Defino una función que busca los múltiplos de 3 y de 5 en la lista\n",
    "    mult_3=[]\n",
    "    mult_5=[]\n",
    "    for i in lista:\n",
    "        if i%3 == 0:            #si es divisible por 3 lo sumo a la lista mult_3\n",
    "            mult_3.append(i)\n",
    "        if i%5 == 0:\n",
    "            mult_5.append(i)    #si es divisible por 5 lo sumo a la lista mult_5  (ACÁ TENDRÍA QUE SACAR LOS MÚLTIPLOS 3)\n",
    "    return mult_3,mult_5"
   ]
  },
  {
   "cell_type": "code",
   "execution_count": 3,
   "metadata": {
    "collapsed": false
   },
   "outputs": [],
   "source": [
    "mult3, mult5 = mult_3y5(numbers)"
   ]
  },
  {
   "cell_type": "code",
   "execution_count": 9,
   "metadata": {
    "collapsed": false
   },
   "outputs": [],
   "source": [
    "conjunto_union = set(mult3) | set (mult5) #Defino el conjunto unión de los conjuntos de las listas"
   ]
  },
  {
   "cell_type": "code",
   "execution_count": 10,
   "metadata": {
    "collapsed": false
   },
   "outputs": [
    {
     "data": {
      "text/plain": [
       "234168"
      ]
     },
     "execution_count": 10,
     "metadata": {},
     "output_type": "execute_result"
    }
   ],
   "source": [
    "sum(conjunto_union)"
   ]
  },
  {
   "cell_type": "code",
   "execution_count": 8,
   "metadata": {
    "collapsed": false
   },
   "outputs": [
    {
     "name": "stdout",
     "output_type": "stream",
     "text": [
      "233168\n"
     ]
    }
   ],
   "source": [
    "#SOLUCIÓN\n",
    "\n",
    "a= list(range(0,1000,3)) #defined as a list\n",
    "b= list(range(0,1000,5))\n",
    "c = set(a) | set(b) #redifined as a set and union\n",
    "#print (c)\n",
    "print (sum(c))"
   ]
  },
  {
   "cell_type": "code",
   "execution_count": null,
   "metadata": {
    "collapsed": false
   },
   "outputs": [],
   "source": []
  },
  {
   "cell_type": "code",
   "execution_count": null,
   "metadata": {
    "collapsed": false
   },
   "outputs": [],
   "source": []
  },
  {
   "cell_type": "code",
   "execution_count": null,
   "metadata": {
    "collapsed": true
   },
   "outputs": [],
   "source": []
  }
 ],
 "metadata": {
  "kernelspec": {
   "display_name": "Python 3",
   "language": "python",
   "name": "python3"
  },
  "language_info": {
   "codemirror_mode": {
    "name": "ipython",
    "version": 3
   },
   "file_extension": ".py",
   "mimetype": "text/x-python",
   "name": "python",
   "nbconvert_exporter": "python",
   "pygments_lexer": "ipython3",
   "version": "3.6.0"
  }
 },
 "nbformat": 4,
 "nbformat_minor": 2
}
